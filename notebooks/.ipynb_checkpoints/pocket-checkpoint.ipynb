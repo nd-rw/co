{
 "cells": [
  {
   "cell_type": "code",
   "execution_count": 45,
   "metadata": {},
   "outputs": [],
   "source": [
    "from pocket import Pocket\n",
    "import requests\n",
    "from datetime import datetime"
   ]
  },
  {
   "cell_type": "code",
   "execution_count": 17,
   "metadata": {},
   "outputs": [],
   "source": [
    "consumer_key = '89466-d07856badd1d17a55193db53'\n",
    "redirect_uri = 'pocketapp1234:authorizationFinished'\n",
    "pocket_request_token_url = 'https://getpocket.com/v3/oauth/request'"
   ]
  },
  {
   "cell_type": "code",
   "execution_count": 18,
   "metadata": {},
   "outputs": [],
   "source": [
    "request_token = Pocket.get_request_token(consumer_key=consumer_key)"
   ]
  },
  {
   "cell_type": "code",
   "execution_count": 19,
   "metadata": {},
   "outputs": [
    {
     "data": {
      "text/plain": [
       "'66ac455b-fedb-b91f-0477-ed1588'"
      ]
     },
     "execution_count": 19,
     "metadata": {},
     "output_type": "execute_result"
    }
   ],
   "source": [
    "request_token"
   ]
  },
  {
   "cell_type": "code",
   "execution_count": 20,
   "metadata": {},
   "outputs": [
    {
     "data": {
      "text/plain": [
       "'https://getpocket.com/auth/authorize?request_token=66ac455b-fedb-b91f-0477-ed1588&redirect_uri=http://example.com'"
      ]
     },
     "execution_count": 20,
     "metadata": {},
     "output_type": "execute_result"
    }
   ],
   "source": [
    "auth_url = Pocket.get_auth_url(code=request_token)\n",
    "auth_url"
   ]
  },
  {
   "cell_type": "code",
   "execution_count": 21,
   "metadata": {},
   "outputs": [],
   "source": [
    "user_credentials = Pocket.get_credentials(consumer_key=consumer_key, code=request_token)\n",
    "access_token = user_credentials['access_token']"
   ]
  },
  {
   "cell_type": "code",
   "execution_count": 22,
   "metadata": {},
   "outputs": [
    {
     "data": {
      "text/plain": [
       "'33803b96-9dc9-8384-a052-f68afb'"
      ]
     },
     "execution_count": 22,
     "metadata": {},
     "output_type": "execute_result"
    }
   ],
   "source": [
    "access_token"
   ]
  },
  {
   "cell_type": "code",
   "execution_count": 23,
   "metadata": {},
   "outputs": [],
   "source": [
    "pocket_instance = pocket.Pocket(consumer_key, access_token)"
   ]
  },
  {
   "cell_type": "code",
   "execution_count": 28,
   "metadata": {},
   "outputs": [],
   "source": [
    "archived_favourites = pocket_instance.get(state='archive', favorite=1)"
   ]
  },
  {
   "cell_type": "code",
   "execution_count": 39,
   "metadata": {},
   "outputs": [
    {
     "data": {
      "text/plain": [
       "36"
      ]
     },
     "execution_count": 39,
     "metadata": {},
     "output_type": "execute_result"
    }
   ],
   "source": [
    "len(archived_favourites[0]['list'].keys())"
   ]
  },
  {
   "cell_type": "code",
   "execution_count": 47,
   "metadata": {},
   "outputs": [
    {
     "name": "stdout",
     "output_type": "stream",
     "text": [
      "2020-01-19 14:38:06\n",
      "None\n",
      "2020-01-07 05:35:46\n",
      "None\n",
      "2020-01-06 12:29:56\n",
      "None\n",
      "2019-12-22 09:26:33\n",
      "None\n",
      "2019-12-19 03:28:31\n",
      "None\n",
      "2019-12-18 15:34:18\n",
      "None\n",
      "2019-10-14 05:33:44\n",
      "None\n",
      "2019-10-14 05:33:01\n",
      "None\n",
      "2019-09-22 16:20:30\n",
      "None\n",
      "2019-09-22 02:55:45\n",
      "None\n",
      "2019-09-22 02:51:39\n",
      "None\n",
      "2019-09-08 17:04:08\n",
      "None\n",
      "2019-09-08 03:50:19\n",
      "None\n",
      "2019-08-18 08:43:18\n",
      "None\n",
      "2019-08-17 15:38:05\n",
      "None\n",
      "2019-05-23 04:40:46\n",
      "None\n",
      "2019-05-20 08:01:26\n",
      "None\n",
      "2019-05-13 08:25:12\n",
      "None\n",
      "2019-04-22 11:06:49\n",
      "None\n",
      "2019-04-12 04:59:52\n",
      "None\n",
      "2019-04-11 11:17:14\n",
      "None\n",
      "2019-03-19 09:13:26\n",
      "None\n",
      "2019-01-31 22:28:29\n",
      "None\n",
      "2019-01-14 01:29:43\n",
      "None\n",
      "2019-01-06 19:47:19\n",
      "None\n",
      "2019-01-05 11:30:28\n",
      "None\n",
      "2018-11-18 04:03:29\n",
      "None\n",
      "2018-11-05 12:27:35\n",
      "None\n",
      "2018-11-01 08:38:57\n",
      "None\n",
      "2018-10-15 01:32:18\n",
      "None\n",
      "2018-10-10 07:17:47\n",
      "None\n",
      "2018-10-04 03:20:28\n",
      "None\n",
      "2018-09-27 01:25:58\n",
      "None\n",
      "2018-09-24 07:21:06\n",
      "None\n",
      "2018-09-20 07:02:25\n",
      "None\n",
      "2018-09-20 06:48:46\n",
      "None\n"
     ]
    }
   ],
   "source": [
    "for x in archived_favourites[0]['list']:\n",
    "    print(print(datetime.utcfromtimestamp(int(archived_favourites[0]['list'][x]['time_read'])).strftime('%Y-%m-%d %H:%M:%S')))"
   ]
  },
  {
   "cell_type": "code",
   "execution_count": null,
   "metadata": {},
   "outputs": [],
   "source": []
  }
 ],
 "metadata": {
  "kernelspec": {
   "display_name": "Python 3",
   "language": "python",
   "name": "python3"
  },
  "language_info": {
   "codemirror_mode": {
    "name": "ipython",
    "version": 3
   },
   "file_extension": ".py",
   "mimetype": "text/x-python",
   "name": "python",
   "nbconvert_exporter": "python",
   "pygments_lexer": "ipython3",
   "version": "3.6.8"
  }
 },
 "nbformat": 4,
 "nbformat_minor": 2
}
